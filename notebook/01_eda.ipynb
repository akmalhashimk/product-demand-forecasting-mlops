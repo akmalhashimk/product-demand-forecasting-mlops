{
 "cells": [
  {
   "cell_type": "code",
   "execution_count": null,
   "id": "data-load-start",
   "metadata": {},
   "outputs": [],
   "source": [
    "import pandas as pd\n",
    "\n",
    "# Load CSVs\n",
    "train = pd.read_csv('/mnt/data/train.csv')\n",
    "test = pd.read_csv('/mnt/data/test.csv')\n",
    "store = pd.read_csv('/mnt/data/store.csv')\n",
    "\n",
    "# Preview shapes and data\n",
    "print(\"Train shape:\", train.shape)\n",
    "print(\"Test shape:\", test.shape)\n",
    "print(\"Store shape:\", store.shape)\n",
    "train.head()"
   ]
  },
  {
   "cell_type": "code",
   "execution_count": null,
   "id": "merge-datasets",
   "metadata": {},
   "outputs": [],
   "source": [
    "# Merge store info into train and test\n",
    "train_merged = pd.merge(train, store, on='Store', how='left')\n",
    "test_merged = pd.merge(test, store, on='Store', how='left')\n",
    "\n",
    "# Check merged shapes\n",
    "print(\"Merged train shape:\", train_merged.shape)\n",
    "print(\"Merged test shape:\", test_merged.shape)\n",
    "\n",
    "# Convert Date to datetime\n",
    "train_merged['Date'] = pd.to_datetime(train_merged['Date'])\n",
    "test_merged['Date'] = pd.to_datetime(test_merged['Date'])"
   ]
  }
 ],
 "metadata": {
  "kernelspec": {
   "display_name": "Python 3",
   "language": "python",
   "name": "python3"
  },
  "language_info": {
   "name": "python",
   "version": "3.10"
  }
 },
 "nbformat": 4,
 "nbformat_minor": 5
}
