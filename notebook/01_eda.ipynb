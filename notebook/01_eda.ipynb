{
 "cells": [
  {
   "cell_type": "code",
   "execution_count": null,
   "id": "c2e1e81d",
   "metadata": {},
   "outputs": [],
   "source": [
    "import pandas as pd\n",
    "\n",
    "# Load CSVs\n",
    "train = pd.read_csv('/mnt/data/train.csv')\n",
    "test = pd.read_csv('/mnt/data/test.csv')\n",
    "store = pd.read_csv('/mnt/data/store.csv')\n",
    "\n",
    "# Preview shapes and data\n",
    "print(\"Train shape:\", train.shape)\n",
    "print(\"Test shape:\", test.shape)\n",
    "print(\"Store shape:\", store.shape)\n",
    "\n",
    "train.head()"
   ]
  },
  {
   "cell_type": "code",
   "execution_count": null,
   "id": "156bd4e9",
   "metadata": {},
   "outputs": [],
   "source": [
    "# Merge store info into train and test\n",
    "train_merged = pd.merge(train, store, on='Store', how='left')\n",
    "test_merged = pd.merge(test, store, on='Store', how='left')\n",
    "\n",
    "# Convert Date to datetime\n",
    "train_merged['Date'] = pd.to_datetime(train_merged['Date'])\n",
    "test_merged['Date'] = pd.to_datetime(test_merged['Date'])\n",
    "\n",
    "# Check merged shapes\n",
    "print(\"Merged train shape:\", train_merged.shape)\n",
    "print(\"Merged test shape:\", test_merged.shape)"
   ]
  },
  {
   "cell_type": "code",
   "execution_count": null,
   "id": "d956fac5",
   "metadata": {},
   "outputs": [],
   "source": [
    "import matplotlib.pyplot as plt\n",
    "import seaborn as sns\n",
    "\n",
    "missing = train_merged.isnull().sum()\n",
    "missing = missing[missing > 0].sort_values(ascending=False)\n",
    "\n",
    "plt.figure(figsize=(10,6))\n",
    "sns.barplot(x=missing.values, y=missing.index)\n",
    "plt.title(\"Missing Values by Feature\")\n",
    "plt.xlabel(\"Count\")\n",
    "plt.ylabel(\"Feature\")\n",
    "plt.show()"
   ]
  },
  {
   "cell_type": "code",
   "execution_count": null,
   "id": "baabb430",
   "metadata": {},
   "outputs": [],
   "source": [
    "plt.figure(figsize=(10, 5))\n",
    "sns.histplot(train_merged['Sales'], bins=100, kde=True)\n",
    "plt.title(\"Distribution of Daily Sales\")\n",
    "plt.xlabel(\"Sales\")\n",
    "plt.ylabel(\"Frequency\")\n",
    "plt.show()"
   ]
  },
  {
   "cell_type": "code",
   "execution_count": null,
   "id": "10633acb",
   "metadata": {},
   "outputs": [],
   "source": [
    "daily_sales = train_merged.groupby('Date')['Sales'].sum()\n",
    "\n",
    "plt.figure(figsize=(15,5))\n",
    "daily_sales.plot()\n",
    "plt.title(\"Total Sales Over Time\")\n",
    "plt.ylabel(\"Sales\")\n",
    "plt.xlabel(\"Date\")\n",
    "plt.grid(True)\n",
    "plt.show()"
   ]
  },
  {
   "cell_type": "code",
   "execution_count": null,
   "id": "1e2e8903",
   "metadata": {},
   "outputs": [],
   "source": [
    "plt.figure(figsize=(8, 4))\n",
    "sns.boxplot(x='StoreType', y='Sales', data=train_merged)\n",
    "plt.title(\"Sales Distribution by Store Type\")\n",
    "plt.show()"
   ]
  },
  {
   "cell_type": "code",
   "execution_count": null,
   "id": "2f6dfded",
   "metadata": {},
   "outputs": [],
   "source": [
    "plt.figure(figsize=(8, 4))\n",
    "sns.boxplot(x='Promo', y='Sales', data=train_merged)\n",
    "plt.title(\"Sales During Promo vs Non-Promo Periods\")\n",
    "plt.show()"
   ]
  }
 ],
 "metadata": {},
 "nbformat": 4,
 "nbformat_minor": 5
}
